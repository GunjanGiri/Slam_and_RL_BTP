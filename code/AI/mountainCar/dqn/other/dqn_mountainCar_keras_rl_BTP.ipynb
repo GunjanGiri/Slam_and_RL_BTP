{
  "nbformat": 4,
  "nbformat_minor": 0,
  "metadata": {
    "colab": {
      "name": "dqn_mountainCar_keras_rl_BTP.ipynb",
      "provenance": [],
      "collapsed_sections": []
    },
    "kernelspec": {
      "name": "python3",
      "display_name": "Python 3"
    },
    "accelerator": "TPU"
  },
  "cells": [
    {
      "cell_type": "code",
      "metadata": {
        "id": "EzsWMISLruj8",
        "colab_type": "code",
        "colab": {}
      },
      "source": [
        "# !pip uninstall tensorflow==2.0.0"
      ],
      "execution_count": 0,
      "outputs": []
    },
    {
      "cell_type": "code",
      "metadata": {
        "id": "Kke2lDYtsSWa",
        "colab_type": "code",
        "outputId": "12a028cc-8ec2-487d-f580-0f60130fef4c",
        "colab": {
          "base_uri": "https://localhost:8080/",
          "height": 674
        }
      },
      "source": [
        "pip install tensorflow==1.14"
      ],
      "execution_count": 2,
      "outputs": [
        {
          "output_type": "stream",
          "text": [
            "Collecting tensorflow==1.14\n",
            "\u001b[?25l  Downloading https://files.pythonhosted.org/packages/de/f0/96fb2e0412ae9692dbf400e5b04432885f677ad6241c088ccc5fe7724d69/tensorflow-1.14.0-cp36-cp36m-manylinux1_x86_64.whl (109.2MB)\n",
            "\u001b[K     |████████████████████████████████| 109.2MB 80kB/s \n",
            "\u001b[?25hRequirement already satisfied: absl-py>=0.7.0 in /usr/local/lib/python3.6/dist-packages (from tensorflow==1.14) (0.8.1)\n",
            "Requirement already satisfied: gast>=0.2.0 in /usr/local/lib/python3.6/dist-packages (from tensorflow==1.14) (0.2.2)\n",
            "Collecting tensorboard<1.15.0,>=1.14.0\n",
            "\u001b[?25l  Downloading https://files.pythonhosted.org/packages/91/2d/2ed263449a078cd9c8a9ba50ebd50123adf1f8cfbea1492f9084169b89d9/tensorboard-1.14.0-py3-none-any.whl (3.1MB)\n",
            "\u001b[K     |████████████████████████████████| 3.2MB 35.3MB/s \n",
            "\u001b[?25hRequirement already satisfied: wrapt>=1.11.1 in /usr/local/lib/python3.6/dist-packages (from tensorflow==1.14) (1.11.2)\n",
            "Requirement already satisfied: keras-applications>=1.0.6 in /usr/local/lib/python3.6/dist-packages (from tensorflow==1.14) (1.0.8)\n",
            "Requirement already satisfied: wheel>=0.26 in /usr/local/lib/python3.6/dist-packages (from tensorflow==1.14) (0.33.6)\n",
            "Requirement already satisfied: numpy<2.0,>=1.14.5 in /usr/local/lib/python3.6/dist-packages (from tensorflow==1.14) (1.17.3)\n",
            "Requirement already satisfied: protobuf>=3.6.1 in /usr/local/lib/python3.6/dist-packages (from tensorflow==1.14) (3.10.0)\n",
            "Requirement already satisfied: keras-preprocessing>=1.0.5 in /usr/local/lib/python3.6/dist-packages (from tensorflow==1.14) (1.1.0)\n",
            "Requirement already satisfied: termcolor>=1.1.0 in /usr/local/lib/python3.6/dist-packages (from tensorflow==1.14) (1.1.0)\n",
            "Requirement already satisfied: google-pasta>=0.1.6 in /usr/local/lib/python3.6/dist-packages (from tensorflow==1.14) (0.1.7)\n",
            "Collecting tensorflow-estimator<1.15.0rc0,>=1.14.0rc0\n",
            "\u001b[?25l  Downloading https://files.pythonhosted.org/packages/3c/d5/21860a5b11caf0678fbc8319341b0ae21a07156911132e0e71bffed0510d/tensorflow_estimator-1.14.0-py2.py3-none-any.whl (488kB)\n",
            "\u001b[K     |████████████████████████████████| 491kB 40.7MB/s \n",
            "\u001b[?25hRequirement already satisfied: six>=1.10.0 in /usr/local/lib/python3.6/dist-packages (from tensorflow==1.14) (1.12.0)\n",
            "Requirement already satisfied: astor>=0.6.0 in /usr/local/lib/python3.6/dist-packages (from tensorflow==1.14) (0.8.0)\n",
            "Requirement already satisfied: grpcio>=1.8.6 in /usr/local/lib/python3.6/dist-packages (from tensorflow==1.14) (1.15.0)\n",
            "Requirement already satisfied: werkzeug>=0.11.15 in /usr/local/lib/python3.6/dist-packages (from tensorboard<1.15.0,>=1.14.0->tensorflow==1.14) (0.16.0)\n",
            "Requirement already satisfied: setuptools>=41.0.0 in /usr/local/lib/python3.6/dist-packages (from tensorboard<1.15.0,>=1.14.0->tensorflow==1.14) (41.4.0)\n",
            "Requirement already satisfied: markdown>=2.6.8 in /usr/local/lib/python3.6/dist-packages (from tensorboard<1.15.0,>=1.14.0->tensorflow==1.14) (3.1.1)\n",
            "Requirement already satisfied: h5py in /usr/local/lib/python3.6/dist-packages (from keras-applications>=1.0.6->tensorflow==1.14) (2.8.0)\n",
            "Installing collected packages: tensorboard, tensorflow-estimator, tensorflow\n",
            "  Found existing installation: tensorboard 1.15.0\n",
            "    Uninstalling tensorboard-1.15.0:\n",
            "      Successfully uninstalled tensorboard-1.15.0\n",
            "  Found existing installation: tensorflow-estimator 1.15.1\n",
            "    Uninstalling tensorflow-estimator-1.15.1:\n",
            "      Successfully uninstalled tensorflow-estimator-1.15.1\n",
            "  Found existing installation: tensorflow 1.15.0\n",
            "    Uninstalling tensorflow-1.15.0:\n",
            "      Successfully uninstalled tensorflow-1.15.0\n",
            "Successfully installed tensorboard-1.14.0 tensorflow-1.14.0 tensorflow-estimator-1.14.0\n"
          ],
          "name": "stdout"
        }
      ]
    },
    {
      "cell_type": "code",
      "metadata": {
        "id": "uZ9Rv9zV0qbt",
        "colab_type": "code",
        "colab": {
          "base_uri": "https://localhost:8080/",
          "height": 463
        },
        "outputId": "3e470c32-bf5d-47ef-9203-e0490e98ffc7"
      },
      "source": [
        "import tensorflow as tf\n",
        "from tensorflow import keras"
      ],
      "execution_count": 3,
      "outputs": [
        {
          "output_type": "stream",
          "text": [
            "/usr/local/lib/python3.6/dist-packages/tensorflow/python/framework/dtypes.py:516: FutureWarning: Passing (type, 1) or '1type' as a synonym of type is deprecated; in a future version of numpy, it will be understood as (type, (1,)) / '(1,)type'.\n",
            "  _np_qint8 = np.dtype([(\"qint8\", np.int8, 1)])\n",
            "/usr/local/lib/python3.6/dist-packages/tensorflow/python/framework/dtypes.py:517: FutureWarning: Passing (type, 1) or '1type' as a synonym of type is deprecated; in a future version of numpy, it will be understood as (type, (1,)) / '(1,)type'.\n",
            "  _np_quint8 = np.dtype([(\"quint8\", np.uint8, 1)])\n",
            "/usr/local/lib/python3.6/dist-packages/tensorflow/python/framework/dtypes.py:518: FutureWarning: Passing (type, 1) or '1type' as a synonym of type is deprecated; in a future version of numpy, it will be understood as (type, (1,)) / '(1,)type'.\n",
            "  _np_qint16 = np.dtype([(\"qint16\", np.int16, 1)])\n",
            "/usr/local/lib/python3.6/dist-packages/tensorflow/python/framework/dtypes.py:519: FutureWarning: Passing (type, 1) or '1type' as a synonym of type is deprecated; in a future version of numpy, it will be understood as (type, (1,)) / '(1,)type'.\n",
            "  _np_quint16 = np.dtype([(\"quint16\", np.uint16, 1)])\n",
            "/usr/local/lib/python3.6/dist-packages/tensorflow/python/framework/dtypes.py:520: FutureWarning: Passing (type, 1) or '1type' as a synonym of type is deprecated; in a future version of numpy, it will be understood as (type, (1,)) / '(1,)type'.\n",
            "  _np_qint32 = np.dtype([(\"qint32\", np.int32, 1)])\n",
            "/usr/local/lib/python3.6/dist-packages/tensorflow/python/framework/dtypes.py:525: FutureWarning: Passing (type, 1) or '1type' as a synonym of type is deprecated; in a future version of numpy, it will be understood as (type, (1,)) / '(1,)type'.\n",
            "  np_resource = np.dtype([(\"resource\", np.ubyte, 1)])\n",
            "/usr/local/lib/python3.6/dist-packages/tensorboard/compat/tensorflow_stub/dtypes.py:541: FutureWarning: Passing (type, 1) or '1type' as a synonym of type is deprecated; in a future version of numpy, it will be understood as (type, (1,)) / '(1,)type'.\n",
            "  _np_qint8 = np.dtype([(\"qint8\", np.int8, 1)])\n",
            "/usr/local/lib/python3.6/dist-packages/tensorboard/compat/tensorflow_stub/dtypes.py:542: FutureWarning: Passing (type, 1) or '1type' as a synonym of type is deprecated; in a future version of numpy, it will be understood as (type, (1,)) / '(1,)type'.\n",
            "  _np_quint8 = np.dtype([(\"quint8\", np.uint8, 1)])\n",
            "/usr/local/lib/python3.6/dist-packages/tensorboard/compat/tensorflow_stub/dtypes.py:543: FutureWarning: Passing (type, 1) or '1type' as a synonym of type is deprecated; in a future version of numpy, it will be understood as (type, (1,)) / '(1,)type'.\n",
            "  _np_qint16 = np.dtype([(\"qint16\", np.int16, 1)])\n",
            "/usr/local/lib/python3.6/dist-packages/tensorboard/compat/tensorflow_stub/dtypes.py:544: FutureWarning: Passing (type, 1) or '1type' as a synonym of type is deprecated; in a future version of numpy, it will be understood as (type, (1,)) / '(1,)type'.\n",
            "  _np_quint16 = np.dtype([(\"quint16\", np.uint16, 1)])\n",
            "/usr/local/lib/python3.6/dist-packages/tensorboard/compat/tensorflow_stub/dtypes.py:545: FutureWarning: Passing (type, 1) or '1type' as a synonym of type is deprecated; in a future version of numpy, it will be understood as (type, (1,)) / '(1,)type'.\n",
            "  _np_qint32 = np.dtype([(\"qint32\", np.int32, 1)])\n",
            "/usr/local/lib/python3.6/dist-packages/tensorboard/compat/tensorflow_stub/dtypes.py:550: FutureWarning: Passing (type, 1) or '1type' as a synonym of type is deprecated; in a future version of numpy, it will be understood as (type, (1,)) / '(1,)type'.\n",
            "  np_resource = np.dtype([(\"resource\", np.ubyte, 1)])\n"
          ],
          "name": "stderr"
        }
      ]
    },
    {
      "cell_type": "code",
      "metadata": {
        "id": "e7ij71fPH_xB",
        "colab_type": "code",
        "outputId": "50f5f4b6-ac08-4128-c9e6-84059f0282ad",
        "colab": {
          "base_uri": "https://localhost:8080/",
          "height": 336
        }
      },
      "source": [
        "!pip install keras-rl"
      ],
      "execution_count": 4,
      "outputs": [
        {
          "output_type": "stream",
          "text": [
            "Collecting keras-rl\n",
            "\u001b[?25l  Downloading https://files.pythonhosted.org/packages/ab/87/4b57eff8e4bd834cea0a75cd6c58198c9e42be29b600db9c14fafa72ec07/keras-rl-0.4.2.tar.gz (40kB)\n",
            "\r\u001b[K     |████████                        | 10kB 14.8MB/s eta 0:00:01\r\u001b[K     |████████████████▏               | 20kB 2.2MB/s eta 0:00:01\r\u001b[K     |████████████████████████▎       | 30kB 3.2MB/s eta 0:00:01\r\u001b[K     |████████████████████████████████| 40kB 2.5MB/s \n",
            "\u001b[?25hRequirement already satisfied: keras>=2.0.7 in /usr/local/lib/python3.6/dist-packages (from keras-rl) (2.2.5)\n",
            "Requirement already satisfied: six>=1.9.0 in /usr/local/lib/python3.6/dist-packages (from keras>=2.0.7->keras-rl) (1.12.0)\n",
            "Requirement already satisfied: keras-preprocessing>=1.1.0 in /usr/local/lib/python3.6/dist-packages (from keras>=2.0.7->keras-rl) (1.1.0)\n",
            "Requirement already satisfied: numpy>=1.9.1 in /usr/local/lib/python3.6/dist-packages (from keras>=2.0.7->keras-rl) (1.17.3)\n",
            "Requirement already satisfied: pyyaml in /usr/local/lib/python3.6/dist-packages (from keras>=2.0.7->keras-rl) (3.13)\n",
            "Requirement already satisfied: h5py in /usr/local/lib/python3.6/dist-packages (from keras>=2.0.7->keras-rl) (2.8.0)\n",
            "Requirement already satisfied: keras-applications>=1.0.8 in /usr/local/lib/python3.6/dist-packages (from keras>=2.0.7->keras-rl) (1.0.8)\n",
            "Requirement already satisfied: scipy>=0.14 in /usr/local/lib/python3.6/dist-packages (from keras>=2.0.7->keras-rl) (1.3.1)\n",
            "Building wheels for collected packages: keras-rl\n",
            "  Building wheel for keras-rl (setup.py) ... \u001b[?25l\u001b[?25hdone\n",
            "  Created wheel for keras-rl: filename=keras_rl-0.4.2-cp36-none-any.whl size=48379 sha256=1f13f1a75fdc9487088dc8c3cdb2a97d46917ecc6f9a124bc755a74bc05fa8d6\n",
            "  Stored in directory: /root/.cache/pip/wheels/7d/4d/84/9254c9f2e8f51865cb0dac8e79da85330c735551d31f73c894\n",
            "Successfully built keras-rl\n",
            "Installing collected packages: keras-rl\n",
            "Successfully installed keras-rl-0.4.2\n"
          ],
          "name": "stdout"
        }
      ]
    },
    {
      "cell_type": "code",
      "metadata": {
        "id": "gRRAiAZ5Hyey",
        "colab_type": "code",
        "colab": {
          "base_uri": "https://localhost:8080/",
          "height": 34
        },
        "outputId": "6ede2d7d-bbdf-44ae-b434-0ed8c2b7098a"
      },
      "source": [
        "#===================== Import libraies=================#\n",
        "import numpy as np\n",
        "import gym\n",
        "import matplotlib as plt\n",
        "\n",
        "from keras.models import Sequential\n",
        "from keras.layers import Dense, Activation, Flatten\n",
        "from keras.optimizers import Adam\n",
        "\n",
        "from rl.agents.dqn import DQNAgent\n",
        "from rl.policy import EpsGreedyQPolicy\n",
        "from rl.memory import SequentialMemory"
      ],
      "execution_count": 5,
      "outputs": [
        {
          "output_type": "stream",
          "text": [
            "Using TensorFlow backend.\n"
          ],
          "name": "stderr"
        }
      ]
    },
    {
      "cell_type": "code",
      "metadata": {
        "id": "D-flmoriH2vl",
        "colab_type": "code",
        "colab": {}
      },
      "source": [
        "#=========================== set env =================#\n",
        "ENV_NAME = 'MountainCar-v0'\n",
        "env = gym.make(ENV_NAME) # Get the environment and extract the number of actions available in the Cartpole problem\n",
        "np.random.seed(123)\n",
        "env.seed(123)\n",
        "nb_actions = env.action_space.n"
      ],
      "execution_count": 0,
      "outputs": []
    },
    {
      "cell_type": "code",
      "metadata": {
        "id": "RLESEFq3IYoU",
        "colab_type": "code",
        "outputId": "15e5903d-6bd6-409e-ddf5-3896e82b7a12",
        "colab": {
          "base_uri": "https://localhost:8080/",
          "height": 461
        }
      },
      "source": [
        "#=================== Create model ======================\n",
        "model = Sequential()\n",
        "model.add(Flatten(input_shape=(1,) + env.observation_space.shape))\n",
        "model.add(Dense(16))\n",
        "model.add(Activation('relu'))\n",
        "model.add(Dense(nb_actions))\n",
        "model.add(Activation('linear'))\n",
        "print(model.summary())"
      ],
      "execution_count": 7,
      "outputs": [
        {
          "output_type": "stream",
          "text": [
            "WARNING:tensorflow:From /usr/local/lib/python3.6/dist-packages/keras/backend/tensorflow_backend.py:66: The name tf.get_default_graph is deprecated. Please use tf.compat.v1.get_default_graph instead.\n",
            "\n",
            "WARNING:tensorflow:From /usr/local/lib/python3.6/dist-packages/keras/backend/tensorflow_backend.py:541: The name tf.placeholder is deprecated. Please use tf.compat.v1.placeholder instead.\n",
            "\n",
            "WARNING:tensorflow:From /usr/local/lib/python3.6/dist-packages/keras/backend/tensorflow_backend.py:4432: The name tf.random_uniform is deprecated. Please use tf.random.uniform instead.\n",
            "\n",
            "Model: \"sequential_1\"\n",
            "_________________________________________________________________\n",
            "Layer (type)                 Output Shape              Param #   \n",
            "=================================================================\n",
            "flatten_1 (Flatten)          (None, 2)                 0         \n",
            "_________________________________________________________________\n",
            "dense_1 (Dense)              (None, 16)                48        \n",
            "_________________________________________________________________\n",
            "activation_1 (Activation)    (None, 16)                0         \n",
            "_________________________________________________________________\n",
            "dense_2 (Dense)              (None, 3)                 51        \n",
            "_________________________________________________________________\n",
            "activation_2 (Activation)    (None, 3)                 0         \n",
            "=================================================================\n",
            "Total params: 99\n",
            "Trainable params: 99\n",
            "Non-trainable params: 0\n",
            "_________________________________________________________________\n",
            "None\n"
          ],
          "name": "stdout"
        }
      ]
    },
    {
      "cell_type": "code",
      "metadata": {
        "id": "BPvisY5YP2G4",
        "colab_type": "code",
        "outputId": "d000abad-4486-4f69-fe8c-ab93492ced39",
        "colab": {
          "base_uri": "https://localhost:8080/",
          "height": 107
        }
      },
      "source": [
        "!pip install pyglet==1.3.2 #--force-reinstall\n",
        "!apt-get install -y xvfb python-opengl > /dev/null 2>&1\n",
        "!pip install gym pyvirtualdisplay > /dev/null 2>&1\n",
        "\n",
        "import gym\n",
        "import numpy as np\n",
        "import matplotlib.pyplot as plt\n",
        "from IPython import display as ipythondisplay\n",
        "\n",
        "from pyvirtualdisplay import Display\n",
        "display = Display(visible=0, size=(400, 300))\n",
        "display.start()"
      ],
      "execution_count": 8,
      "outputs": [
        {
          "output_type": "stream",
          "text": [
            "Requirement already satisfied: pyglet==1.3.2 in /usr/local/lib/python3.6/dist-packages (1.3.2)\n",
            "Requirement already satisfied: future in /usr/local/lib/python3.6/dist-packages (from pyglet==1.3.2) (0.16.0)\n"
          ],
          "name": "stdout"
        },
        {
          "output_type": "stream",
          "text": [
            "xdpyinfo was not found, X start can not be checked! Please install xdpyinfo!\n"
          ],
          "name": "stderr"
        },
        {
          "output_type": "execute_result",
          "data": {
            "text/plain": [
              "<Display cmd_param=['Xvfb', '-br', '-nolisten', 'tcp', '-screen', '0', '400x300x24', ':1001'] cmd=['Xvfb', '-br', '-nolisten', 'tcp', '-screen', '0', '400x300x24', ':1001'] oserror=None return_code=None stdout=\"None\" stderr=\"None\" timeout_happened=False>"
            ]
          },
          "metadata": {
            "tags": []
          },
          "execution_count": 8
        }
      ]
    },
    {
      "cell_type": "code",
      "metadata": {
        "id": "o5PTwv48I2Vl",
        "colab_type": "code",
        "outputId": "b91d6b6e-80c3-4b40-8ff8-eac8fce03220",
        "colab": {
          "base_uri": "https://localhost:8080/",
          "height": 1000
        }
      },
      "source": [
        "policy = EpsGreedyQPolicy()\n",
        "memory = SequentialMemory(limit=50000, window_length=1)\n",
        "dqn = DQNAgent(model=model, nb_actions=nb_actions, memory=memory, nb_steps_warmup=10, target_model_update=1e-2, policy=policy)\n",
        "dqn.compile(Adam(lr=1e-4), metrics=['mae'])\n",
        "\n",
        "history = dqn.fit(env, nb_steps=20000, visualize=True, verbose=2)# visualize slows down training quite a lot. "
      ],
      "execution_count": 9,
      "outputs": [
        {
          "output_type": "stream",
          "text": [
            "WARNING:tensorflow:From /usr/local/lib/python3.6/dist-packages/keras/backend/tensorflow_backend.py:190: The name tf.get_default_session is deprecated. Please use tf.compat.v1.get_default_session instead.\n",
            "\n",
            "WARNING:tensorflow:From /usr/local/lib/python3.6/dist-packages/keras/backend/tensorflow_backend.py:197: The name tf.ConfigProto is deprecated. Please use tf.compat.v1.ConfigProto instead.\n",
            "\n",
            "WARNING:tensorflow:From /usr/local/lib/python3.6/dist-packages/keras/optimizers.py:793: The name tf.train.Optimizer is deprecated. Please use tf.compat.v1.train.Optimizer instead.\n",
            "\n",
            "Training for 20000 steps ...\n"
          ],
          "name": "stdout"
        },
        {
          "output_type": "stream",
          "text": [
            "/usr/local/lib/python3.6/dist-packages/rl/memory.py:39: UserWarning: Not enough entries to sample without replacement. Consider increasing your warm-up phase to avoid oversampling!\n",
            "  warnings.warn('Not enough entries to sample without replacement. Consider increasing your warm-up phase to avoid oversampling!')\n"
          ],
          "name": "stderr"
        },
        {
          "output_type": "stream",
          "text": [
            "   200/20000: episode: 1, duration: 3.194s, episode steps: 200, steps per second: 63, episode reward: -200.000, mean reward: -1.000 [-1.000, -1.000], mean action: 0.990 [0.000, 2.000], mean observation: -0.265 [-0.599, 0.007], loss: 0.462561, mean_absolute_error: 0.451966, mean_q: 0.073036\n",
            "   400/20000: episode: 2, duration: 1.149s, episode steps: 200, steps per second: 174, episode reward: -200.000, mean reward: -1.000 [-1.000, -1.000], mean action: 1.005 [0.000, 2.000], mean observation: -0.260 [-0.602, 0.007], loss: 0.441114, mean_absolute_error: 0.473975, mean_q: -0.041098\n",
            "   600/20000: episode: 3, duration: 1.189s, episode steps: 200, steps per second: 168, episode reward: -200.000, mean reward: -1.000 [-1.000, -1.000], mean action: 1.005 [0.000, 2.000], mean observation: -0.261 [-0.566, 0.003], loss: 0.435431, mean_absolute_error: 0.512502, mean_q: -0.157210\n",
            "   800/20000: episode: 4, duration: 1.176s, episode steps: 200, steps per second: 170, episode reward: -200.000, mean reward: -1.000 [-1.000, -1.000], mean action: 0.955 [0.000, 2.000], mean observation: -0.263 [-0.658, 0.008], loss: 0.434326, mean_absolute_error: 0.562435, mean_q: -0.278324\n",
            "  1000/20000: episode: 5, duration: 1.185s, episode steps: 200, steps per second: 169, episode reward: -200.000, mean reward: -1.000 [-1.000, -1.000], mean action: 0.595 [0.000, 2.000], mean observation: -0.294 [-0.920, 0.032], loss: 0.431688, mean_absolute_error: 0.624547, mean_q: -0.402519\n",
            "  1200/20000: episode: 6, duration: 1.122s, episode steps: 200, steps per second: 178, episode reward: -200.000, mean reward: -1.000 [-1.000, -1.000], mean action: 0.710 [0.000, 2.000], mean observation: -0.292 [-0.939, 0.035], loss: 0.425327, mean_absolute_error: 0.706187, mean_q: -0.539847\n",
            "  1400/20000: episode: 7, duration: 1.183s, episode steps: 200, steps per second: 169, episode reward: -200.000, mean reward: -1.000 [-1.000, -1.000], mean action: 1.025 [0.000, 2.000], mean observation: -0.264 [-0.637, 0.011], loss: 0.422329, mean_absolute_error: 0.795577, mean_q: -0.679544\n",
            "  1600/20000: episode: 8, duration: 1.223s, episode steps: 200, steps per second: 164, episode reward: -200.000, mean reward: -1.000 [-1.000, -1.000], mean action: 1.020 [0.000, 2.000], mean observation: -0.261 [-0.557, 0.004], loss: 0.418106, mean_absolute_error: 0.876257, mean_q: -0.825250\n",
            "  1800/20000: episode: 9, duration: 1.141s, episode steps: 200, steps per second: 175, episode reward: -200.000, mean reward: -1.000 [-1.000, -1.000], mean action: 0.905 [0.000, 2.000], mean observation: -0.280 [-0.920, 0.032], loss: 0.413485, mean_absolute_error: 0.960978, mean_q: -0.973070\n",
            "  2000/20000: episode: 10, duration: 1.205s, episode steps: 200, steps per second: 166, episode reward: -200.000, mean reward: -1.000 [-1.000, -1.000], mean action: 1.220 [0.000, 2.000], mean observation: -0.219 [-0.990, 0.108], loss: 0.402512, mean_absolute_error: 1.059366, mean_q: -1.125356\n",
            "  2200/20000: episode: 11, duration: 1.195s, episode steps: 200, steps per second: 167, episode reward: -200.000, mean reward: -1.000 [-1.000, -1.000], mean action: 0.425 [0.000, 2.000], mean observation: -0.296 [-0.806, 0.024], loss: 0.383464, mean_absolute_error: 1.176472, mean_q: -1.304328\n",
            "  2400/20000: episode: 12, duration: 1.211s, episode steps: 200, steps per second: 165, episode reward: -200.000, mean reward: -1.000 [-1.000, -1.000], mean action: 0.890 [0.000, 2.000], mean observation: -0.281 [-0.869, 0.029], loss: 0.359671, mean_absolute_error: 1.346619, mean_q: -1.567636\n",
            "  2600/20000: episode: 13, duration: 1.262s, episode steps: 200, steps per second: 158, episode reward: -200.000, mean reward: -1.000 [-1.000, -1.000], mean action: 1.010 [0.000, 2.000], mean observation: -0.262 [-0.590, 0.006], loss: 0.359798, mean_absolute_error: 1.514598, mean_q: -1.820995\n",
            "  2800/20000: episode: 14, duration: 1.192s, episode steps: 200, steps per second: 168, episode reward: -200.000, mean reward: -1.000 [-1.000, -1.000], mean action: 0.875 [0.000, 2.000], mean observation: -0.279 [-0.797, 0.024], loss: 0.357100, mean_absolute_error: 1.680501, mean_q: -2.075985\n",
            "  3000/20000: episode: 15, duration: 1.220s, episode steps: 200, steps per second: 164, episode reward: -200.000, mean reward: -1.000 [-1.000, -1.000], mean action: 0.570 [0.000, 2.000], mean observation: -0.287 [-0.810, 0.021], loss: 0.352714, mean_absolute_error: 1.857941, mean_q: -2.346483\n",
            "  3200/20000: episode: 16, duration: 1.253s, episode steps: 200, steps per second: 160, episode reward: -200.000, mean reward: -1.000 [-1.000, -1.000], mean action: 0.130 [0.000, 2.000], mean observation: -0.322 [-0.723, 0.007], loss: 0.327876, mean_absolute_error: 2.064774, mean_q: -2.652919\n",
            "  3400/20000: episode: 17, duration: 1.174s, episode steps: 200, steps per second: 170, episode reward: -200.000, mean reward: -1.000 [-1.000, -1.000], mean action: 0.545 [0.000, 2.000], mean observation: -0.303 [-0.973, 0.036], loss: 0.321761, mean_absolute_error: 2.286511, mean_q: -2.989872\n",
            "  3600/20000: episode: 18, duration: 1.232s, episode steps: 200, steps per second: 162, episode reward: -200.000, mean reward: -1.000 [-1.000, -1.000], mean action: 0.760 [0.000, 2.000], mean observation: -0.273 [-0.700, 0.016], loss: 0.320222, mean_absolute_error: 2.519508, mean_q: -3.334387\n",
            "  3800/20000: episode: 19, duration: 1.177s, episode steps: 200, steps per second: 170, episode reward: -200.000, mean reward: -1.000 [-1.000, -1.000], mean action: 0.540 [0.000, 2.000], mean observation: -0.290 [-0.700, 0.010], loss: 0.309527, mean_absolute_error: 2.752014, mean_q: -3.690070\n",
            "  4000/20000: episode: 20, duration: 1.237s, episode steps: 200, steps per second: 162, episode reward: -200.000, mean reward: -1.000 [-1.000, -1.000], mean action: 0.320 [0.000, 2.000], mean observation: -0.306 [-0.761, 0.014], loss: 0.295215, mean_absolute_error: 3.001287, mean_q: -4.078782\n",
            "  4200/20000: episode: 21, duration: 1.213s, episode steps: 200, steps per second: 165, episode reward: -200.000, mean reward: -1.000 [-1.000, -1.000], mean action: 0.375 [0.000, 2.000], mean observation: -0.306 [-0.851, 0.022], loss: 0.292316, mean_absolute_error: 3.261769, mean_q: -4.481772\n",
            "  4400/20000: episode: 22, duration: 1.006s, episode steps: 200, steps per second: 199, episode reward: -200.000, mean reward: -1.000 [-1.000, -1.000], mean action: 0.625 [0.000, 2.000], mean observation: -0.296 [-0.747, 0.020], loss: 0.304103, mean_absolute_error: 3.526515, mean_q: -4.890200\n",
            "  4600/20000: episode: 23, duration: 1.130s, episode steps: 200, steps per second: 177, episode reward: -200.000, mean reward: -1.000 [-1.000, -1.000], mean action: 0.630 [0.000, 2.000], mean observation: -0.287 [-0.685, 0.016], loss: 0.294438, mean_absolute_error: 3.805469, mean_q: -5.319434\n",
            "  4800/20000: episode: 24, duration: 1.175s, episode steps: 200, steps per second: 170, episode reward: -200.000, mean reward: -1.000 [-1.000, -1.000], mean action: 0.620 [0.000, 2.000], mean observation: -0.289 [-0.710, 0.015], loss: 0.301616, mean_absolute_error: 4.107668, mean_q: -5.771600\n",
            "  5000/20000: episode: 25, duration: 1.177s, episode steps: 200, steps per second: 170, episode reward: -200.000, mean reward: -1.000 [-1.000, -1.000], mean action: 0.715 [0.000, 2.000], mean observation: -0.278 [-0.596, 0.009], loss: 0.314341, mean_absolute_error: 4.396927, mean_q: -6.213218\n",
            "  5200/20000: episode: 26, duration: 1.145s, episode steps: 200, steps per second: 175, episode reward: -200.000, mean reward: -1.000 [-1.000, -1.000], mean action: 0.840 [0.000, 2.000], mean observation: -0.272 [-0.719, 0.020], loss: 0.293803, mean_absolute_error: 4.691719, mean_q: -6.665861\n",
            "  5400/20000: episode: 27, duration: 1.171s, episode steps: 200, steps per second: 171, episode reward: -200.000, mean reward: -1.000 [-1.000, -1.000], mean action: 0.815 [0.000, 2.000], mean observation: -0.274 [-0.584, 0.008], loss: 0.332710, mean_absolute_error: 5.017081, mean_q: -7.152550\n",
            "  5600/20000: episode: 28, duration: 1.182s, episode steps: 200, steps per second: 169, episode reward: -200.000, mean reward: -1.000 [-1.000, -1.000], mean action: 0.570 [0.000, 2.000], mean observation: -0.290 [-0.746, 0.018], loss: 0.359712, mean_absolute_error: 5.325361, mean_q: -7.608550\n",
            "  5800/20000: episode: 29, duration: 1.152s, episode steps: 200, steps per second: 174, episode reward: -200.000, mean reward: -1.000 [-1.000, -1.000], mean action: 0.580 [0.000, 2.000], mean observation: -0.288 [-0.774, 0.021], loss: 0.323298, mean_absolute_error: 5.646105, mean_q: -8.099898\n",
            "  6000/20000: episode: 30, duration: 1.118s, episode steps: 200, steps per second: 179, episode reward: -200.000, mean reward: -1.000 [-1.000, -1.000], mean action: 0.630 [0.000, 2.000], mean observation: -0.287 [-0.670, 0.013], loss: 0.347808, mean_absolute_error: 5.962916, mean_q: -8.581086\n",
            "  6200/20000: episode: 31, duration: 1.195s, episode steps: 200, steps per second: 167, episode reward: -200.000, mean reward: -1.000 [-1.000, -1.000], mean action: 0.890 [0.000, 2.000], mean observation: -0.268 [-0.649, 0.012], loss: 0.364899, mean_absolute_error: 6.304125, mean_q: -9.098117\n",
            "  6400/20000: episode: 32, duration: 1.251s, episode steps: 200, steps per second: 160, episode reward: -200.000, mean reward: -1.000 [-1.000, -1.000], mean action: 0.975 [0.000, 2.000], mean observation: -0.265 [-0.704, 0.021], loss: 0.357022, mean_absolute_error: 6.631960, mean_q: -9.594510\n",
            "  6600/20000: episode: 33, duration: 1.014s, episode steps: 200, steps per second: 197, episode reward: -200.000, mean reward: -1.000 [-1.000, -1.000], mean action: 0.550 [0.000, 2.000], mean observation: -0.294 [-0.673, 0.011], loss: 0.400414, mean_absolute_error: 6.993823, mean_q: -10.136127\n",
            "  6800/20000: episode: 34, duration: 1.050s, episode steps: 200, steps per second: 190, episode reward: -200.000, mean reward: -1.000 [-1.000, -1.000], mean action: 1.085 [0.000, 2.000], mean observation: -0.258 [-0.692, 0.019], loss: 0.415998, mean_absolute_error: 7.326721, mean_q: -10.638694\n",
            "  7000/20000: episode: 35, duration: 1.186s, episode steps: 200, steps per second: 169, episode reward: -200.000, mean reward: -1.000 [-1.000, -1.000], mean action: 1.070 [0.000, 2.000], mean observation: -0.253 [-0.661, 0.015], loss: 0.442497, mean_absolute_error: 7.673463, mean_q: -11.163692\n",
            "  7200/20000: episode: 36, duration: 1.251s, episode steps: 200, steps per second: 160, episode reward: -200.000, mean reward: -1.000 [-1.000, -1.000], mean action: 0.915 [0.000, 2.000], mean observation: -0.272 [-0.741, 0.019], loss: 0.486131, mean_absolute_error: 8.030700, mean_q: -11.698982\n",
            "  7400/20000: episode: 37, duration: 1.226s, episode steps: 200, steps per second: 163, episode reward: -200.000, mean reward: -1.000 [-1.000, -1.000], mean action: 0.570 [0.000, 2.000], mean observation: -0.292 [-0.668, 0.010], loss: 0.497470, mean_absolute_error: 8.389324, mean_q: -12.235622\n",
            "  7600/20000: episode: 38, duration: 1.268s, episode steps: 200, steps per second: 158, episode reward: -200.000, mean reward: -1.000 [-1.000, -1.000], mean action: 0.735 [0.000, 2.000], mean observation: -0.275 [-0.643, 0.018], loss: 0.524887, mean_absolute_error: 8.758916, mean_q: -12.796394\n",
            "  7800/20000: episode: 39, duration: 1.158s, episode steps: 200, steps per second: 173, episode reward: -200.000, mean reward: -1.000 [-1.000, -1.000], mean action: 1.300 [0.000, 2.000], mean observation: -0.239 [-0.576, 0.015], loss: 0.556893, mean_absolute_error: 9.114462, mean_q: -13.325603\n",
            "  8000/20000: episode: 40, duration: 1.217s, episode steps: 200, steps per second: 164, episode reward: -200.000, mean reward: -1.000 [-1.000, -1.000], mean action: 1.515 [0.000, 2.000], mean observation: -0.225 [-0.496, 0.007], loss: 0.669524, mean_absolute_error: 9.453691, mean_q: -13.835958\n",
            "  8200/20000: episode: 41, duration: 1.182s, episode steps: 200, steps per second: 169, episode reward: -200.000, mean reward: -1.000 [-1.000, -1.000], mean action: 1.330 [0.000, 2.000], mean observation: -0.237 [-0.596, 0.016], loss: 0.658773, mean_absolute_error: 9.816922, mean_q: -14.382655\n",
            "  8400/20000: episode: 42, duration: 1.173s, episode steps: 200, steps per second: 171, episode reward: -200.000, mean reward: -1.000 [-1.000, -1.000], mean action: 1.260 [0.000, 2.000], mean observation: -0.248 [-0.598, 0.016], loss: 0.650321, mean_absolute_error: 10.171994, mean_q: -14.926990\n",
            "  8600/20000: episode: 43, duration: 1.137s, episode steps: 200, steps per second: 176, episode reward: -200.000, mean reward: -1.000 [-1.000, -1.000], mean action: 1.530 [0.000, 2.000], mean observation: -0.227 [-0.528, 0.008], loss: 0.724086, mean_absolute_error: 10.521999, mean_q: -15.445446\n",
            "  8800/20000: episode: 44, duration: 1.168s, episode steps: 200, steps per second: 171, episode reward: -200.000, mean reward: -1.000 [-1.000, -1.000], mean action: 1.120 [0.000, 2.000], mean observation: -0.253 [-0.561, 0.009], loss: 0.519060, mean_absolute_error: 10.889509, mean_q: -16.023851\n",
            "  9000/20000: episode: 45, duration: 1.190s, episode steps: 200, steps per second: 168, episode reward: -200.000, mean reward: -1.000 [-1.000, -1.000], mean action: 1.045 [0.000, 2.000], mean observation: -0.260 [-0.665, 0.015], loss: 0.627537, mean_absolute_error: 11.274963, mean_q: -16.599754\n",
            "  9200/20000: episode: 46, duration: 1.194s, episode steps: 200, steps per second: 168, episode reward: -200.000, mean reward: -1.000 [-1.000, -1.000], mean action: 0.745 [0.000, 2.000], mean observation: -0.277 [-0.705, 0.015], loss: 0.850580, mean_absolute_error: 11.676179, mean_q: -17.183792\n",
            "  9400/20000: episode: 47, duration: 1.196s, episode steps: 200, steps per second: 167, episode reward: -200.000, mean reward: -1.000 [-1.000, -1.000], mean action: 1.055 [0.000, 2.000], mean observation: -0.257 [-0.565, 0.010], loss: 0.728056, mean_absolute_error: 12.067474, mean_q: -17.790306\n",
            "  9600/20000: episode: 48, duration: 1.258s, episode steps: 200, steps per second: 159, episode reward: -200.000, mean reward: -1.000 [-1.000, -1.000], mean action: 1.500 [0.000, 2.000], mean observation: -0.231 [-0.547, 0.010], loss: 0.996550, mean_absolute_error: 12.439749, mean_q: -18.322058\n",
            "  9800/20000: episode: 49, duration: 1.140s, episode steps: 200, steps per second: 175, episode reward: -200.000, mean reward: -1.000 [-1.000, -1.000], mean action: 1.295 [0.000, 2.000], mean observation: -0.244 [-0.550, 0.008], loss: 0.892085, mean_absolute_error: 12.790352, mean_q: -18.872681\n",
            " 10000/20000: episode: 50, duration: 1.124s, episode steps: 200, steps per second: 178, episode reward: -200.000, mean reward: -1.000 [-1.000, -1.000], mean action: 1.100 [0.000, 2.000], mean observation: -0.255 [-0.613, 0.011], loss: 0.949335, mean_absolute_error: 13.171737, mean_q: -19.440605\n",
            " 10200/20000: episode: 51, duration: 1.127s, episode steps: 200, steps per second: 177, episode reward: -200.000, mean reward: -1.000 [-1.000, -1.000], mean action: 1.290 [0.000, 2.000], mean observation: -0.245 [-0.555, 0.012], loss: 1.118772, mean_absolute_error: 13.555842, mean_q: -20.006298\n",
            " 10400/20000: episode: 52, duration: 1.169s, episode steps: 200, steps per second: 171, episode reward: -200.000, mean reward: -1.000 [-1.000, -1.000], mean action: 1.590 [0.000, 2.000], mean observation: -0.218 [-0.553, 0.012], loss: 1.073329, mean_absolute_error: 13.886330, mean_q: -20.491325\n",
            " 10600/20000: episode: 53, duration: 1.134s, episode steps: 200, steps per second: 176, episode reward: -200.000, mean reward: -1.000 [-1.000, -1.000], mean action: 1.735 [0.000, 2.000], mean observation: -0.214 [-0.525, 0.012], loss: 1.042502, mean_absolute_error: 14.228411, mean_q: -21.014694\n",
            " 10800/20000: episode: 54, duration: 1.157s, episode steps: 200, steps per second: 173, episode reward: -200.000, mean reward: -1.000 [-1.000, -1.000], mean action: 1.885 [0.000, 2.000], mean observation: -0.200 [-0.471, 0.006], loss: 0.881089, mean_absolute_error: 14.580173, mean_q: -21.542124\n",
            " 11000/20000: episode: 55, duration: 1.185s, episode steps: 200, steps per second: 169, episode reward: -200.000, mean reward: -1.000 [-1.000, -1.000], mean action: 1.825 [0.000, 2.000], mean observation: -0.201 [-0.565, 0.013], loss: 1.040567, mean_absolute_error: 14.943115, mean_q: -22.088997\n",
            " 11200/20000: episode: 56, duration: 1.144s, episode steps: 200, steps per second: 175, episode reward: -200.000, mean reward: -1.000 [-1.000, -1.000], mean action: 1.895 [0.000, 2.000], mean observation: -0.202 [-0.481, 0.005], loss: 1.522193, mean_absolute_error: 15.256804, mean_q: -22.529472\n",
            " 11400/20000: episode: 57, duration: 1.239s, episode steps: 200, steps per second: 161, episode reward: -200.000, mean reward: -1.000 [-1.000, -1.000], mean action: 1.560 [0.000, 2.000], mean observation: -0.225 [-0.641, 0.021], loss: 1.236895, mean_absolute_error: 15.564009, mean_q: -23.012503\n",
            " 11600/20000: episode: 58, duration: 1.294s, episode steps: 200, steps per second: 155, episode reward: -200.000, mean reward: -1.000 [-1.000, -1.000], mean action: 1.900 [0.000, 2.000], mean observation: -0.195 [-0.534, 0.012], loss: 1.373227, mean_absolute_error: 15.914299, mean_q: -23.529512\n",
            " 11800/20000: episode: 59, duration: 1.223s, episode steps: 200, steps per second: 164, episode reward: -200.000, mean reward: -1.000 [-1.000, -1.000], mean action: 1.760 [0.000, 2.000], mean observation: -0.210 [-0.518, 0.008], loss: 1.266319, mean_absolute_error: 16.223083, mean_q: -24.005199\n",
            " 12000/20000: episode: 60, duration: 1.167s, episode steps: 200, steps per second: 171, episode reward: -200.000, mean reward: -1.000 [-1.000, -1.000], mean action: 1.910 [0.000, 2.000], mean observation: -0.197 [-0.476, 0.006], loss: 1.250128, mean_absolute_error: 16.580542, mean_q: -24.556124\n",
            " 12200/20000: episode: 61, duration: 1.218s, episode steps: 200, steps per second: 164, episode reward: -200.000, mean reward: -1.000 [-1.000, -1.000], mean action: 1.885 [0.000, 2.000], mean observation: -0.195 [-0.542, 0.012], loss: 1.552045, mean_absolute_error: 16.926033, mean_q: -25.036766\n",
            " 12400/20000: episode: 62, duration: 1.191s, episode steps: 200, steps per second: 168, episode reward: -200.000, mean reward: -1.000 [-1.000, -1.000], mean action: 1.925 [0.000, 2.000], mean observation: -0.196 [-0.489, 0.008], loss: 1.406145, mean_absolute_error: 17.206017, mean_q: -25.462431\n",
            " 12600/20000: episode: 63, duration: 1.184s, episode steps: 200, steps per second: 169, episode reward: -200.000, mean reward: -1.000 [-1.000, -1.000], mean action: 1.940 [0.000, 2.000], mean observation: -0.197 [-0.427, 0.003], loss: 1.451934, mean_absolute_error: 17.502562, mean_q: -25.920410\n",
            " 12800/20000: episode: 64, duration: 1.259s, episode steps: 200, steps per second: 159, episode reward: -200.000, mean reward: -1.000 [-1.000, -1.000], mean action: 1.245 [0.000, 2.000], mean observation: -0.252 [-0.671, 0.021], loss: 1.596972, mean_absolute_error: 17.914976, mean_q: -26.551714\n",
            " 13000/20000: episode: 65, duration: 1.179s, episode steps: 200, steps per second: 170, episode reward: -200.000, mean reward: -1.000 [-1.000, -1.000], mean action: 1.300 [0.000, 2.000], mean observation: -0.245 [-0.586, 0.016], loss: 1.300727, mean_absolute_error: 18.202148, mean_q: -27.001604\n",
            " 13200/20000: episode: 66, duration: 1.062s, episode steps: 200, steps per second: 188, episode reward: -200.000, mean reward: -1.000 [-1.000, -1.000], mean action: 1.660 [0.000, 2.000], mean observation: -0.215 [-0.488, 0.007], loss: 1.271098, mean_absolute_error: 18.588739, mean_q: -27.594788\n",
            " 13400/20000: episode: 67, duration: 0.999s, episode steps: 200, steps per second: 200, episode reward: -200.000, mean reward: -1.000 [-1.000, -1.000], mean action: 1.195 [0.000, 2.000], mean observation: -0.244 [-0.609, 0.013], loss: 1.482427, mean_absolute_error: 18.934267, mean_q: -28.111198\n",
            " 13600/20000: episode: 68, duration: 1.020s, episode steps: 200, steps per second: 196, episode reward: -200.000, mean reward: -1.000 [-1.000, -1.000], mean action: 1.605 [0.000, 2.000], mean observation: -0.221 [-0.538, 0.010], loss: 2.635792, mean_absolute_error: 19.323549, mean_q: -28.635532\n",
            " 13800/20000: episode: 69, duration: 0.952s, episode steps: 200, steps per second: 210, episode reward: -200.000, mean reward: -1.000 [-1.000, -1.000], mean action: 1.375 [0.000, 2.000], mean observation: -0.236 [-0.630, 0.018], loss: 2.419374, mean_absolute_error: 19.605801, mean_q: -29.071587\n",
            " 14000/20000: episode: 70, duration: 0.936s, episode steps: 200, steps per second: 214, episode reward: -200.000, mean reward: -1.000 [-1.000, -1.000], mean action: 1.445 [0.000, 2.000], mean observation: -0.225 [-0.609, 0.019], loss: 2.273196, mean_absolute_error: 19.889854, mean_q: -29.489206\n",
            " 14200/20000: episode: 71, duration: 0.926s, episode steps: 200, steps per second: 216, episode reward: -200.000, mean reward: -1.000 [-1.000, -1.000], mean action: 1.285 [0.000, 2.000], mean observation: -0.238 [-0.712, 0.024], loss: 2.451506, mean_absolute_error: 20.194559, mean_q: -29.945364\n",
            " 14400/20000: episode: 72, duration: 0.925s, episode steps: 200, steps per second: 216, episode reward: -200.000, mean reward: -1.000 [-1.000, -1.000], mean action: 1.335 [0.000, 2.000], mean observation: -0.238 [-0.606, 0.018], loss: 1.933524, mean_absolute_error: 20.479586, mean_q: -30.406578\n",
            " 14600/20000: episode: 73, duration: 0.958s, episode steps: 200, steps per second: 209, episode reward: -200.000, mean reward: -1.000 [-1.000, -1.000], mean action: 1.830 [0.000, 2.000], mean observation: -0.207 [-0.507, 0.010], loss: 2.494597, mean_absolute_error: 20.778414, mean_q: -30.819677\n",
            " 14800/20000: episode: 74, duration: 0.951s, episode steps: 200, steps per second: 210, episode reward: -200.000, mean reward: -1.000 [-1.000, -1.000], mean action: 1.725 [0.000, 2.000], mean observation: -0.209 [-0.538, 0.013], loss: 2.657074, mean_absolute_error: 21.034796, mean_q: -31.208521\n",
            " 15000/20000: episode: 75, duration: 0.993s, episode steps: 200, steps per second: 201, episode reward: -200.000, mean reward: -1.000 [-1.000, -1.000], mean action: 1.215 [0.000, 2.000], mean observation: -0.250 [-0.620, 0.012], loss: 1.843157, mean_absolute_error: 21.339209, mean_q: -31.724846\n",
            " 15200/20000: episode: 76, duration: 1.159s, episode steps: 200, steps per second: 173, episode reward: -200.000, mean reward: -1.000 [-1.000, -1.000], mean action: 1.670 [0.000, 2.000], mean observation: -0.217 [-0.501, 0.009], loss: 3.068115, mean_absolute_error: 21.664473, mean_q: -32.150276\n",
            " 15400/20000: episode: 77, duration: 1.161s, episode steps: 200, steps per second: 172, episode reward: -200.000, mean reward: -1.000 [-1.000, -1.000], mean action: 1.575 [0.000, 2.000], mean observation: -0.223 [-0.556, 0.009], loss: 1.578840, mean_absolute_error: 21.938173, mean_q: -32.617710\n",
            " 15600/20000: episode: 78, duration: 1.229s, episode steps: 200, steps per second: 163, episode reward: -200.000, mean reward: -1.000 [-1.000, -1.000], mean action: 1.125 [0.000, 2.000], mean observation: -0.253 [-0.673, 0.013], loss: 2.352327, mean_absolute_error: 22.248266, mean_q: -33.064587\n",
            " 15800/20000: episode: 79, duration: 1.203s, episode steps: 200, steps per second: 166, episode reward: -200.000, mean reward: -1.000 [-1.000, -1.000], mean action: 1.510 [0.000, 2.000], mean observation: -0.232 [-0.588, 0.015], loss: 2.722705, mean_absolute_error: 22.585909, mean_q: -33.558781\n",
            " 16000/20000: episode: 80, duration: 1.211s, episode steps: 200, steps per second: 165, episode reward: -200.000, mean reward: -1.000 [-1.000, -1.000], mean action: 1.760 [0.000, 2.000], mean observation: -0.204 [-0.574, 0.014], loss: 3.630795, mean_absolute_error: 22.844532, mean_q: -33.893456\n",
            " 16200/20000: episode: 81, duration: 1.252s, episode steps: 200, steps per second: 160, episode reward: -200.000, mean reward: -1.000 [-1.000, -1.000], mean action: 1.875 [0.000, 2.000], mean observation: -0.201 [-0.450, 0.005], loss: 1.885209, mean_absolute_error: 23.081175, mean_q: -34.318272\n",
            " 16400/20000: episode: 82, duration: 1.172s, episode steps: 200, steps per second: 171, episode reward: -200.000, mean reward: -1.000 [-1.000, -1.000], mean action: 1.385 [0.000, 2.000], mean observation: -0.238 [-0.616, 0.007], loss: 2.956216, mean_absolute_error: 23.394444, mean_q: -34.770363\n",
            " 16600/20000: episode: 83, duration: 1.205s, episode steps: 200, steps per second: 166, episode reward: -200.000, mean reward: -1.000 [-1.000, -1.000], mean action: 1.100 [0.000, 2.000], mean observation: -0.256 [-0.690, 0.018], loss: 2.769444, mean_absolute_error: 23.624487, mean_q: -35.109711\n",
            " 16800/20000: episode: 84, duration: 1.166s, episode steps: 200, steps per second: 172, episode reward: -200.000, mean reward: -1.000 [-1.000, -1.000], mean action: 1.110 [0.000, 2.000], mean observation: -0.253 [-0.597, 0.010], loss: 3.109916, mean_absolute_error: 23.939869, mean_q: -35.590591\n",
            " 17000/20000: episode: 85, duration: 1.099s, episode steps: 200, steps per second: 182, episode reward: -200.000, mean reward: -1.000 [-1.000, -1.000], mean action: 1.755 [0.000, 2.000], mean observation: -0.208 [-0.497, 0.009], loss: 2.221345, mean_absolute_error: 24.193605, mean_q: -35.991566\n",
            " 17200/20000: episode: 86, duration: 1.121s, episode steps: 200, steps per second: 178, episode reward: -200.000, mean reward: -1.000 [-1.000, -1.000], mean action: 1.025 [0.000, 2.000], mean observation: -0.266 [-0.675, 0.019], loss: 3.017588, mean_absolute_error: 24.467236, mean_q: -36.392323\n",
            " 17400/20000: episode: 87, duration: 1.126s, episode steps: 200, steps per second: 178, episode reward: -200.000, mean reward: -1.000 [-1.000, -1.000], mean action: 1.300 [0.000, 2.000], mean observation: -0.242 [-0.714, 0.016], loss: 2.490981, mean_absolute_error: 24.762280, mean_q: -36.843021\n",
            " 17600/20000: episode: 88, duration: 1.145s, episode steps: 200, steps per second: 175, episode reward: -200.000, mean reward: -1.000 [-1.000, -1.000], mean action: 0.515 [0.000, 2.000], mean observation: -0.293 [-0.726, 0.013], loss: 3.847485, mean_absolute_error: 25.047085, mean_q: -37.220676\n",
            " 17800/20000: episode: 89, duration: 1.147s, episode steps: 200, steps per second: 174, episode reward: -200.000, mean reward: -1.000 [-1.000, -1.000], mean action: 0.415 [0.000, 2.000], mean observation: -0.305 [-0.723, 0.012], loss: 2.378120, mean_absolute_error: 25.286247, mean_q: -37.615421\n",
            " 18000/20000: episode: 90, duration: 1.105s, episode steps: 200, steps per second: 181, episode reward: -200.000, mean reward: -1.000 [-1.000, -1.000], mean action: 0.080 [0.000, 2.000], mean observation: -0.340 [-0.926, 0.023], loss: 2.157607, mean_absolute_error: 25.577398, mean_q: -38.063179\n",
            " 18200/20000: episode: 91, duration: 1.157s, episode steps: 200, steps per second: 173, episode reward: -200.000, mean reward: -1.000 [-1.000, -1.000], mean action: 0.540 [0.000, 2.000], mean observation: -0.290 [-0.907, 0.027], loss: 4.268857, mean_absolute_error: 25.840342, mean_q: -38.388992\n",
            " 18400/20000: episode: 92, duration: 1.174s, episode steps: 200, steps per second: 170, episode reward: -200.000, mean reward: -1.000 [-1.000, -1.000], mean action: 1.480 [0.000, 2.000], mean observation: -0.226 [-0.540, 0.008], loss: 4.010421, mean_absolute_error: 26.128246, mean_q: -38.824337\n",
            " 18600/20000: episode: 93, duration: 1.205s, episode steps: 200, steps per second: 166, episode reward: -200.000, mean reward: -1.000 [-1.000, -1.000], mean action: 1.240 [0.000, 2.000], mean observation: -0.248 [-0.607, 0.014], loss: 3.888800, mean_absolute_error: 26.300892, mean_q: -39.091923\n",
            " 18800/20000: episode: 94, duration: 1.163s, episode steps: 200, steps per second: 172, episode reward: -200.000, mean reward: -1.000 [-1.000, -1.000], mean action: 1.160 [0.000, 2.000], mean observation: -0.252 [-0.701, 0.026], loss: 3.068171, mean_absolute_error: 26.518345, mean_q: -39.461811\n",
            " 19000/20000: episode: 95, duration: 1.177s, episode steps: 200, steps per second: 170, episode reward: -200.000, mean reward: -1.000 [-1.000, -1.000], mean action: 1.425 [0.000, 2.000], mean observation: -0.231 [-0.508, 0.009], loss: 3.657016, mean_absolute_error: 26.754414, mean_q: -39.805508\n",
            " 19200/20000: episode: 96, duration: 1.182s, episode steps: 200, steps per second: 169, episode reward: -200.000, mean reward: -1.000 [-1.000, -1.000], mean action: 1.225 [0.000, 2.000], mean observation: -0.239 [-0.640, 0.020], loss: 4.549259, mean_absolute_error: 27.008091, mean_q: -40.144325\n",
            " 19400/20000: episode: 97, duration: 1.101s, episode steps: 200, steps per second: 182, episode reward: -200.000, mean reward: -1.000 [-1.000, -1.000], mean action: 1.635 [0.000, 2.000], mean observation: -0.218 [-0.684, 0.023], loss: 3.517768, mean_absolute_error: 27.149864, mean_q: -40.365631\n",
            " 19600/20000: episode: 98, duration: 1.133s, episode steps: 200, steps per second: 176, episode reward: -200.000, mean reward: -1.000 [-1.000, -1.000], mean action: 1.450 [0.000, 2.000], mean observation: -0.234 [-0.654, 0.013], loss: 3.789410, mean_absolute_error: 27.400827, mean_q: -40.758690\n",
            " 19800/20000: episode: 99, duration: 1.147s, episode steps: 200, steps per second: 174, episode reward: -200.000, mean reward: -1.000 [-1.000, -1.000], mean action: 1.000 [0.000, 2.000], mean observation: -0.262 [-0.580, 0.006], loss: 2.693799, mean_absolute_error: 27.578964, mean_q: -41.050613\n",
            " 20000/20000: episode: 100, duration: 1.155s, episode steps: 200, steps per second: 173, episode reward: -200.000, mean reward: -1.000 [-1.000, -1.000], mean action: 1.170 [0.000, 2.000], mean observation: -0.252 [-0.648, 0.012], loss: 3.130582, mean_absolute_error: 27.877680, mean_q: -41.500343\n",
            "done, took 117.805 seconds\n"
          ],
          "name": "stdout"
        }
      ]
    },
    {
      "cell_type": "code",
      "metadata": {
        "id": "P-eGVVjv2J5B",
        "colab_type": "code",
        "colab": {}
      },
      "source": [
        "# print(history.history)"
      ],
      "execution_count": 0,
      "outputs": []
    },
    {
      "cell_type": "code",
      "metadata": {
        "id": "5rtrbtW427_r",
        "colab_type": "code",
        "colab": {}
      },
      "source": [
        "# Plot training & validation accuracy values\n",
        "plt.plot(history.history['episode_reward'])\n",
        "# plt.plot(history.history['val_acc'])\n",
        "plt.title('Model accuracy')\n",
        "plt.ylabel('Accuracy')\n",
        "plt.xlabel('Epoch')\n",
        "plt.legend(['Train', 'Test'], loc='upper left')\n",
        "plt.show()"
      ],
      "execution_count": 0,
      "outputs": []
    },
    {
      "cell_type": "code",
      "metadata": {
        "id": "eIWK1u51yhoK",
        "colab_type": "code",
        "outputId": "7b36a2fd-6ca0-4aae-cb55-cb98cf24a8e5",
        "colab": {
          "base_uri": "https://localhost:8080/",
          "height": 884
        }
      },
      "source": [
        "model.summary()\n",
        "from keras.utils import plot_model\n",
        "plot_model(model, to_file='model.png')"
      ],
      "execution_count": 16,
      "outputs": [
        {
          "output_type": "stream",
          "text": [
            "Model: \"sequential_1\"\n",
            "_________________________________________________________________\n",
            "Layer (type)                 Output Shape              Param #   \n",
            "=================================================================\n",
            "flatten_1 (Flatten)          (None, 2)                 0         \n",
            "_________________________________________________________________\n",
            "dense_1 (Dense)              (None, 16)                48        \n",
            "_________________________________________________________________\n",
            "activation_1 (Activation)    (None, 16)                0         \n",
            "_________________________________________________________________\n",
            "dense_2 (Dense)              (None, 3)                 51        \n",
            "_________________________________________________________________\n",
            "activation_2 (Activation)    (None, 3)                 0         \n",
            "=================================================================\n",
            "Total params: 99\n",
            "Trainable params: 99\n",
            "Non-trainable params: 0\n",
            "_________________________________________________________________\n"
          ],
          "name": "stdout"
        },
        {
          "output_type": "execute_result",
          "data": {
            "image/png": "[encoded data removed]",
            "text/plain": [
              "<IPython.core.display.Image object>"
            ]
          },
          "metadata": {
            "tags": []
          },
          "execution_count": 16
        }
      ]
    },
    {
      "cell_type": "code",
      "metadata": {
        "id": "Hyq2yBdsJQmM",
        "colab_type": "code",
        "colab": {}
      },
      "source": [
        "dqn.test(env, nb_episodes=100, visualize=False)"
      ],
      "execution_count": 0,
      "outputs": []
    },
    {
      "cell_type": "markdown",
      "metadata": {
        "id": "kkvMyGi-9Pel",
        "colab_type": "text"
      },
      "source": [
        "#===================================== end =============================#"
      ]
    },
    {
      "cell_type": "code",
      "metadata": {
        "id": "6WbKRnQ-LTSA",
        "colab_type": "code",
        "colab": {}
      },
      "source": [
        "#======================================== simple Random walk ========================================================#\n",
        "# !pip install --force-reinstall pyglet==1.3.2\n",
        "# !apt-get install -y xvfb python-opengl > /dev/null 2>&1\n",
        "# !pip install gym pyvirtualdisplay > /dev/null 2>&1\n",
        "\n",
        "import gym\n",
        "import numpy as np\n",
        "import matplotlib.pyplot as plt\n",
        "from IPython import display as ipythondisplay\n",
        "\n",
        "from pyvirtualdisplay import Display\n",
        "display = Display(visible=0, size=(400, 300))\n",
        "display.start()\n",
        "\n",
        "env = gym.make(\"MountainCar-v0\")\n",
        "env.reset()\n",
        "prev_screen = env.render(mode='rgb_array')\n",
        "plt.imshow(prev_screen)\n",
        "\n",
        "for i in range(5):\n",
        "  action = env.action_space.sample()\n",
        "  obs, reward, done, info = env.step(action)\n",
        "  screen = env.render(mode='rgb_array')\n",
        "\n",
        "  plt.imshow(screen)\n",
        "  ipythondisplay.clear_output(wait=True)\n",
        "  ipythondisplay.display(plt.gcf())\n",
        "  if done:\n",
        "    break\n",
        "ipythondisplay.clear_output(wait=True)\n",
        "env.close()"
      ],
      "execution_count": 0,
      "outputs": []
    },
    {
      "cell_type": "code",
      "metadata": {
        "id": "PnumdDG6L074",
        "colab_type": "code",
        "colab": {}
      },
      "source": [
        ""
      ],
      "execution_count": 0,
      "outputs": []
    }
  ]
}