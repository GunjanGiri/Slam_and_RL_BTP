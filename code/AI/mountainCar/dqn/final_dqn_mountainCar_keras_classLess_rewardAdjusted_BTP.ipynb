{
  "nbformat": 4,
  "nbformat_minor": 0,
  "metadata": {
    "colab": {
      "name": "final_dqn_mountainCar_keras_classLess_rewardAdjusted_BTP.ipynb",
      "provenance": [],
      "collapsed_sections": []
    },
    "kernelspec": {
      "name": "python3",
      "display_name": "Python 3"
    },
    "accelerator": "TPU"
  },
  "cells": [
    {
      "cell_type": "markdown",
      "metadata": {
        "id": "LywKpiKkc34h",
        "colab_type": "text"
      },
      "source": [
        "# ========================== Imports ==================== #"
      ]
    },
    {
      "cell_type": "code",
      "metadata": {
        "id": "hFv4sst6GQ-W",
        "colab_type": "code",
        "colab": {}
      },
      "source": [
        "import gym\n",
        "from keras import models\n",
        "from keras import layers\n",
        "from keras.optimizers import Adam\n",
        "from collections import deque\n",
        "import random\n",
        "import numpy as np\n",
        "import copy \n",
        "\n",
        "import matplotlib.pyplot as plt\n",
        "from time import *"
      ],
      "execution_count": 0,
      "outputs": []
    },
    {
      "cell_type": "markdown",
      "metadata": {
        "id": "gOtaW15Yc6d9",
        "colab_type": "text"
      },
      "source": [
        "# ========================== env ==================== #\n"
      ]
    },
    {
      "cell_type": "code",
      "metadata": {
        "id": "PulLafFVLvHj",
        "colab_type": "code",
        "colab": {}
      },
      "source": [
        "env = gym.make('MountainCar-v0')"
      ],
      "execution_count": 0,
      "outputs": []
    },
    {
      "cell_type": "markdown",
      "metadata": {
        "id": "OPCRwCQxc7-i",
        "colab_type": "text"
      },
      "source": [
        "# ===================== parameter ==================== #\n"
      ]
    },
    {
      "cell_type": "code",
      "metadata": {
        "id": "HKzG7ujdMult",
        "colab_type": "code",
        "outputId": "45e5f568-f5b5-4b6d-b41e-1173b342ce52",
        "colab": {
          "base_uri": "https://localhost:8080/",
          "height": 34
        }
      },
      "source": [
        "gamma=0.99\n",
        "learingRate=0.001\n",
        "episodeNum=10000\n",
        "stepNum=201 #max is 200 #steps in one episode\n",
        "\n",
        "epsilon = 1\n",
        "epsilon_min=0.01\n",
        "epsilon_decay = 0.01\n",
        "epsilon_decay = (epsilon-epsilon_min)/episodeNum\n",
        "print(epsilon_decay)\n",
        "targetNetworkUpdateRate=10\n",
        "\n",
        "replayBuffer=deque(maxlen=20000)\n",
        "numPickFromBuffer=32"
      ],
      "execution_count": 16,
      "outputs": [
        {
          "output_type": "stream",
          "text": [
            "9.9e-05\n"
          ],
          "name": "stdout"
        }
      ]
    },
    {
      "cell_type": "code",
      "metadata": {
        "id": "H1612k4-Ptvt",
        "colab_type": "code",
        "colab": {}
      },
      "source": [
        "# ================ just for testing =================#\n",
        "\n",
        "# print(env.observation_space.shape,env.action_space.n,env.action_space)\n",
        "# print(env.observation_space.high,env.observation_space.low)\n",
        "\n",
        "\n",
        "# ar = [3,2,1,0]\n",
        "# for i,ele in enumerate(ar):\n",
        "#   print(i,ele)\n",
        "\n",
        "\n",
        "\n",
        "# state=env.reset().reshape(1,2)\n",
        "# print(state)\n",
        "# trainNetwork.predict(state)[0]\n",
        "\n",
        "\n",
        "\n",
        "# print(\"episode : %.3d ,     epsilon is %.2f,     reward is %d,     maxPosition is %.2f\"%(58,11.111,11.111,11.111))\n",
        "\n",
        "\n",
        "\n",
        "\n",
        "# print(env.reset(),env.reset().shape)\n",
        "# env.reset().reshape(1,2)"
      ],
      "execution_count": 0,
      "outputs": []
    },
    {
      "cell_type": "markdown",
      "metadata": {
        "id": "eje_dkZKdDJG",
        "colab_type": "text"
      },
      "source": [
        "# ========================== Creating network ==================== #"
      ]
    },
    {
      "cell_type": "code",
      "metadata": {
        "id": "LqT6XxiuNWcj",
        "colab_type": "code",
        "colab": {}
      },
      "source": [
        "def createNetwork():\n",
        "    global gamma,learingRate,stepNum,epsilon,epsilon_decay,epsilon_min,numPickFromBuffer,replayBuffer,trainNetwork,targetNetwork,targetNetworkUpdateRate\n",
        "    model = models.Sequential()\n",
        "    state_shape = env.observation_space.shape\n",
        "    model.add(layers.Dense(24, activation='relu', input_shape=state_shape))\n",
        "    model.add(layers.Dense(48, activation='relu'))\n",
        "    model.add(layers.Dense(env.action_space.n,activation='linear'))\n",
        "    model.compile(loss='mse', optimizer=Adam(lr=learingRate))\n",
        "    return model"
      ],
      "execution_count": 0,
      "outputs": []
    },
    {
      "cell_type": "markdown",
      "metadata": {
        "id": "9OZ0RXD7dIW3",
        "colab_type": "text"
      },
      "source": [
        "# ============ Helper Function (epsilonGreedy, training) =============== #"
      ]
    },
    {
      "cell_type": "code",
      "metadata": {
        "id": "iUrDjzNRR3Kv",
        "colab_type": "code",
        "colab": {}
      },
      "source": [
        "def epsilonGreedy(state):\n",
        "    global gamma,learingRate,stepNum,epsilon,epsilon_decay,epsilon_min,numPickFromBuffer,replayBuffer,trainNetwork,targetNetwork,targetNetworkUpdateRate\n",
        "    epsilon = max(epsilon_min, epsilon)\n",
        "    if np.random.rand(1) < epsilon:\n",
        "        action = np.random.randint(0, 3)\n",
        "    else:\n",
        "        action=np.argmax(trainNetwork.predict(state)[0])\n",
        "    return action\n",
        "\n",
        "def learn():\n",
        "    global gamma,learingRate,stepNum,epsilon,epsilon_decay,epsilon_min,numPickFromBuffer,replayBuffer,trainNetwork,targetNetwork,targetNetworkUpdateRate\n",
        "    if len(replayBuffer) < numPickFromBuffer:\n",
        "        return\n",
        "    samples = random.sample(replayBuffer,numPickFromBuffer)\n",
        "    states,newStates = [],[]\n",
        "    for sample in samples:\n",
        "        state, action, reward, new_state, done = sample\n",
        "        states.append(state)\n",
        "        newStates.append(new_state)\n",
        "    states = np.array(states).reshape(numPickFromBuffer, 2)\n",
        "    newStates = np.array(newStates).reshape(numPickFromBuffer, 2)\n",
        "    #[  [Q(s1,a1), Q(s1,a2), Q(s1,a3)],\n",
        "    #   [Q(s2,a1), Q(s2,a2), Q(s2,a3)],\n",
        "    #   [Q(s3,a1), Q(s3,a2), Q(s3,a3)]  ]\n",
        "    y_Qs = trainNetwork.predict(states)\n",
        "    y_Qs_dash=targetNetwork.predict(newStates) #similarly Q[s',a1..a2...] for states\n",
        "    y_Qs_star = copy.deepcopy(y_Qs) # initialise as of now, to be calculate later\n",
        "\n",
        "    for j,sample in enumerate(samples):\n",
        "        state, action, reward, new_state, done = sample\n",
        "        if done:\n",
        "            y_Qs_star[j][action] = reward\n",
        "        else:\n",
        "            y_Qs_star[j][action] = reward + gamma * max(y_Qs_dash[j])\n",
        "\n",
        "    return trainNetwork.fit(states, y_Qs_star, epochs=1, verbose=0)"
      ],
      "execution_count": 0,
      "outputs": []
    },
    {
      "cell_type": "markdown",
      "metadata": {
        "id": "gEwouDkCdWSd",
        "colab_type": "text"
      },
      "source": [
        "# ========================== Main DQN ==================== #\n"
      ]
    },
    {
      "cell_type": "code",
      "metadata": {
        "id": "5LKVMSk4GSzf",
        "colab_type": "code",
        "colab": {}
      },
      "source": [
        "def DQN():\n",
        "  \n",
        "  global gamma,learingRate,stepNum,epsilon,epsilon_decay,epsilon_min,numPickFromBuffer,replayBuffer,trainNetwork,targetNetwork,targetNetworkUpdateRate\n",
        "  \n",
        "  trainNetwork=createNetwork()\n",
        "  targetNetwork=createNetwork()\n",
        "  targetNetwork.set_weights(trainNetwork.get_weights())\n",
        "\n",
        "  rlist = []\n",
        "  avgrlist = []\n",
        "  for eps in range(episodeNum): #for all episode\n",
        "    state=env.reset().reshape(1,2) \n",
        "    rewardSum = 0\n",
        "    max_position=-99\n",
        "    for i in range(stepNum):  #for max stepNum no. of step\n",
        "        action = epsilonGreedy(state)\n",
        "        # if eps%50==0: #show the animation every 50 eps\n",
        "        #     env.render()\n",
        "        new_state, reward, done, _ = env.step(action)\n",
        "        new_state = new_state.reshape(1, 2)\n",
        "        max_position = max(max_position, new_state[0][0]) # Keep track of max position\n",
        "        if new_state[0][0] >= 0.5: # Adjust reward for task completion\n",
        "            reward += 10\n",
        "        replayBuffer.append([state, action, reward, new_state, done]) #store in replay memory\n",
        "        \n",
        "        learn()\n",
        "        rewardSum += reward\n",
        "        state = new_state\n",
        "        if done:\n",
        "            break\n",
        "\n",
        "    rlist.append(rewardSum)\n",
        "    \n",
        "    # print(\"episode : %.3d ,    epsilon is %.2f,      reward is %d,      maxPosition is %.2f\"%(eps,epsilon, rewardSum,max_position))\n",
        "\n",
        "    #====== avg reward per 100 episodes =====#\n",
        "    if (eps+1) % 100 == 0:\n",
        "        avgr = np.mean(rlist)\n",
        "        avgrlist.append(avgr)\n",
        "        rlist = []\n",
        "        # print('\\n *************** Episode {} Average Reward: {} ******************* \\n'.format(eps+1, avgr))\n",
        "        print(\"episode : %.3d ,    epsilon is %.2f,      reward is %d,      maxPosition is %.2f\"%(eps+1,epsilon, avgr, max_position))\n",
        "\n",
        "    \n",
        "    if eps % targetNetworkUpdateRate == 0: #update target network\n",
        "      targetNetwork.set_weights(trainNetwork.get_weights())\n",
        "    \n",
        "    #====== epsilion decay =====#\n",
        "    if epsilon > epsilon_min:\n",
        "            epsilon -= epsilon_decay\n",
        "\n",
        "  return avgrlist"
      ],
      "execution_count": 0,
      "outputs": []
    },
    {
      "cell_type": "markdown",
      "metadata": {
        "id": "qcGC2H9Kdcmn",
        "colab_type": "text"
      },
      "source": [
        "# ========================== RUN ==================== #\n"
      ]
    },
    {
      "cell_type": "code",
      "metadata": {
        "id": "IRMPhCTKGrZ_",
        "colab_type": "code",
        "outputId": "f2965053-3cd3-4a08-f221-699419558438",
        "colab": {
          "base_uri": "https://localhost:8080/",
          "height": 1000
        }
      },
      "source": [
        "avgrlist = DQN()"
      ],
      "execution_count": 21,
      "outputs": [
        {
          "output_type": "stream",
          "text": [
            "episode : 100 ,    epsilon is 0.99,      reward is -200,      maxPosition is -0.38\n",
            "episode : 200 ,    epsilon is 0.98,      reward is -200,      maxPosition is -0.35\n",
            "episode : 300 ,    epsilon is 0.97,      reward is -200,      maxPosition is -0.42\n",
            "episode : 400 ,    epsilon is 0.96,      reward is -200,      maxPosition is -0.37\n",
            "episode : 500 ,    epsilon is 0.95,      reward is -200,      maxPosition is -0.39\n",
            "episode : 600 ,    epsilon is 0.94,      reward is -200,      maxPosition is -0.41\n",
            "episode : 700 ,    epsilon is 0.93,      reward is -200,      maxPosition is -0.46\n",
            "episode : 800 ,    epsilon is 0.92,      reward is -200,      maxPosition is -0.28\n",
            "episode : 900 ,    epsilon is 0.91,      reward is -200,      maxPosition is -0.41\n",
            "episode : 1000 ,    epsilon is 0.90,      reward is -200,      maxPosition is -0.40\n",
            "episode : 1100 ,    epsilon is 0.89,      reward is -200,      maxPosition is -0.37\n",
            "episode : 1200 ,    epsilon is 0.88,      reward is -200,      maxPosition is -0.28\n",
            "episode : 1300 ,    epsilon is 0.87,      reward is -200,      maxPosition is -0.42\n",
            "episode : 1400 ,    epsilon is 0.86,      reward is -200,      maxPosition is -0.32\n",
            "episode : 1500 ,    epsilon is 0.85,      reward is -200,      maxPosition is -0.37\n",
            "episode : 1600 ,    epsilon is 0.84,      reward is -200,      maxPosition is -0.46\n",
            "episode : 1700 ,    epsilon is 0.83,      reward is -200,      maxPosition is -0.33\n",
            "episode : 1800 ,    epsilon is 0.82,      reward is -200,      maxPosition is -0.33\n",
            "episode : 1900 ,    epsilon is 0.81,      reward is -200,      maxPosition is -0.31\n",
            "episode : 2000 ,    epsilon is 0.80,      reward is -200,      maxPosition is -0.27\n",
            "episode : 2100 ,    epsilon is 0.79,      reward is -200,      maxPosition is -0.38\n",
            "episode : 2200 ,    epsilon is 0.78,      reward is -200,      maxPosition is -0.28\n",
            "episode : 2300 ,    epsilon is 0.77,      reward is -200,      maxPosition is -0.43\n",
            "episode : 2400 ,    epsilon is 0.76,      reward is -200,      maxPosition is -0.42\n",
            "episode : 2500 ,    epsilon is 0.75,      reward is -200,      maxPosition is -0.26\n",
            "episode : 2600 ,    epsilon is 0.74,      reward is -200,      maxPosition is -0.35\n",
            "episode : 2700 ,    epsilon is 0.73,      reward is -200,      maxPosition is -0.46\n",
            "episode : 2800 ,    epsilon is 0.72,      reward is -200,      maxPosition is -0.47\n",
            "episode : 2900 ,    epsilon is 0.71,      reward is -200,      maxPosition is -0.45\n",
            "episode : 3000 ,    epsilon is 0.70,      reward is -200,      maxPosition is -0.38\n",
            "episode : 3100 ,    epsilon is 0.69,      reward is -200,      maxPosition is -0.36\n",
            "episode : 3200 ,    epsilon is 0.68,      reward is -200,      maxPosition is -0.10\n",
            "episode : 3300 ,    epsilon is 0.67,      reward is -200,      maxPosition is -0.23\n",
            "episode : 3400 ,    epsilon is 0.66,      reward is -199,      maxPosition is -0.05\n",
            "episode : 3500 ,    epsilon is 0.65,      reward is -200,      maxPosition is -0.36\n",
            "episode : 3600 ,    epsilon is 0.64,      reward is -200,      maxPosition is -0.16\n",
            "episode : 3700 ,    epsilon is 0.63,      reward is -199,      maxPosition is -0.09\n",
            "episode : 3800 ,    epsilon is 0.62,      reward is -198,      maxPosition is -0.08\n",
            "episode : 3900 ,    epsilon is 0.61,      reward is -198,      maxPosition is 0.50\n",
            "episode : 4000 ,    epsilon is 0.60,      reward is -199,      maxPosition is 0.18\n",
            "episode : 4100 ,    epsilon is 0.59,      reward is -197,      maxPosition is -0.04\n",
            "episode : 4200 ,    epsilon is 0.58,      reward is -198,      maxPosition is 0.00\n",
            "episode : 4300 ,    epsilon is 0.57,      reward is -197,      maxPosition is 0.35\n",
            "episode : 4400 ,    epsilon is 0.56,      reward is -197,      maxPosition is 0.42\n",
            "episode : 4500 ,    epsilon is 0.55,      reward is -194,      maxPosition is 0.34\n",
            "episode : 4600 ,    epsilon is 0.54,      reward is -196,      maxPosition is 0.02\n",
            "episode : 4700 ,    epsilon is 0.53,      reward is -190,      maxPosition is 0.20\n",
            "episode : 4800 ,    epsilon is 0.52,      reward is -188,      maxPosition is 0.46\n",
            "episode : 4900 ,    epsilon is 0.51,      reward is -189,      maxPosition is 0.07\n",
            "episode : 5000 ,    epsilon is 0.51,      reward is -187,      maxPosition is 0.16\n",
            "episode : 5100 ,    epsilon is 0.50,      reward is -187,      maxPosition is 0.50\n",
            "episode : 5200 ,    epsilon is 0.49,      reward is -187,      maxPosition is 0.51\n",
            "episode : 5300 ,    epsilon is 0.48,      reward is -184,      maxPosition is 0.26\n",
            "episode : 5400 ,    epsilon is 0.47,      reward is -181,      maxPosition is 0.53\n",
            "episode : 5500 ,    epsilon is 0.46,      reward is -186,      maxPosition is -0.03\n",
            "episode : 5600 ,    epsilon is 0.45,      reward is -186,      maxPosition is 0.17\n",
            "episode : 5700 ,    epsilon is 0.44,      reward is -177,      maxPosition is 0.53\n",
            "episode : 5800 ,    epsilon is 0.43,      reward is -179,      maxPosition is 0.52\n",
            "episode : 5900 ,    epsilon is 0.42,      reward is -175,      maxPosition is 0.50\n",
            "episode : 6000 ,    epsilon is 0.41,      reward is -174,      maxPosition is 0.53\n",
            "episode : 6100 ,    epsilon is 0.40,      reward is -172,      maxPosition is 0.52\n",
            "episode : 6200 ,    epsilon is 0.39,      reward is -168,      maxPosition is 0.52\n",
            "episode : 6300 ,    epsilon is 0.38,      reward is -164,      maxPosition is 0.33\n",
            "episode : 6400 ,    epsilon is 0.37,      reward is -168,      maxPosition is 0.32\n",
            "episode : 6500 ,    epsilon is 0.36,      reward is -162,      maxPosition is 0.52\n",
            "episode : 6600 ,    epsilon is 0.35,      reward is -162,      maxPosition is 0.53\n",
            "episode : 6700 ,    epsilon is 0.34,      reward is -164,      maxPosition is 0.26\n",
            "episode : 6800 ,    epsilon is 0.33,      reward is -162,      maxPosition is 0.52\n",
            "episode : 6900 ,    epsilon is 0.32,      reward is -163,      maxPosition is 0.51\n",
            "episode : 7000 ,    epsilon is 0.31,      reward is -165,      maxPosition is 0.50\n",
            "episode : 7100 ,    epsilon is 0.30,      reward is -163,      maxPosition is 0.51\n",
            "episode : 7200 ,    epsilon is 0.29,      reward is -171,      maxPosition is 0.39\n",
            "episode : 7300 ,    epsilon is 0.28,      reward is -163,      maxPosition is 0.50\n",
            "episode : 7400 ,    epsilon is 0.27,      reward is -173,      maxPosition is 0.35\n",
            "episode : 7500 ,    epsilon is 0.26,      reward is -156,      maxPosition is 0.51\n",
            "episode : 7600 ,    epsilon is 0.25,      reward is -161,      maxPosition is 0.52\n",
            "episode : 7700 ,    epsilon is 0.24,      reward is -160,      maxPosition is 0.52\n",
            "episode : 7800 ,    epsilon is 0.23,      reward is -167,      maxPosition is 0.51\n",
            "episode : 7900 ,    epsilon is 0.22,      reward is -161,      maxPosition is 0.52\n",
            "episode : 8000 ,    epsilon is 0.21,      reward is -155,      maxPosition is 0.50\n",
            "episode : 8100 ,    epsilon is 0.20,      reward is -163,      maxPosition is 0.51\n",
            "episode : 8200 ,    epsilon is 0.19,      reward is -160,      maxPosition is 0.50\n",
            "episode : 8300 ,    epsilon is 0.18,      reward is -156,      maxPosition is 0.52\n",
            "episode : 8400 ,    epsilon is 0.17,      reward is -161,      maxPosition is 0.51\n",
            "episode : 8500 ,    epsilon is 0.16,      reward is -143,      maxPosition is 0.52\n",
            "episode : 8600 ,    epsilon is 0.15,      reward is -143,      maxPosition is 0.25\n",
            "episode : 8700 ,    epsilon is 0.14,      reward is -129,      maxPosition is 0.50\n",
            "episode : 8800 ,    epsilon is 0.13,      reward is -139,      maxPosition is 0.52\n",
            "episode : 8900 ,    epsilon is 0.12,      reward is -127,      maxPosition is 0.50\n",
            "episode : 9000 ,    epsilon is 0.11,      reward is -129,      maxPosition is 0.51\n",
            "episode : 9100 ,    epsilon is 0.10,      reward is -119,      maxPosition is 0.51\n",
            "episode : 9200 ,    epsilon is 0.09,      reward is -113,      maxPosition is 0.50\n",
            "episode : 9300 ,    epsilon is 0.08,      reward is -118,      maxPosition is 0.51\n",
            "episode : 9400 ,    epsilon is 0.07,      reward is -111,      maxPosition is 0.52\n",
            "episode : 9500 ,    epsilon is 0.06,      reward is -112,      maxPosition is 0.51\n",
            "episode : 9600 ,    epsilon is 0.05,      reward is -104,      maxPosition is 0.50\n",
            "episode : 9700 ,    epsilon is 0.04,      reward is -102,      maxPosition is 0.53\n",
            "episode : 9800 ,    epsilon is 0.03,      reward is -104,      maxPosition is 0.51\n",
            "episode : 9900 ,    epsilon is 0.02,      reward is -99,      maxPosition is 0.51\n",
            "episode : 10000 ,    epsilon is 0.01,      reward is -97,      maxPosition is 0.52\n"
          ],
          "name": "stdout"
        }
      ]
    },
    {
      "cell_type": "markdown",
      "metadata": {
        "id": "Ua8IYYZPdeVS",
        "colab_type": "text"
      },
      "source": [
        "# ========================== PLOT ==================== #\n"
      ]
    },
    {
      "cell_type": "code",
      "metadata": {
        "id": "NIOX4pD7eFJS",
        "colab_type": "code",
        "colab": {
          "base_uri": "https://localhost:8080/",
          "height": 295
        },
        "outputId": "fb5f3588-87b1-4a06-afba-b845645d5ff9"
      },
      "source": [
        "#========================================== plot and save ==================================#\n",
        "plt.plot(100*(np.arange(len(avgrlist)) + 1), avgrlist)\n",
        "plt.xlabel('Episodes')\n",
        "plt.ylabel('Average Reward')\n",
        "plt.title('Average Reward vs Episodes')\n",
        "plt.show()\n",
        "# plt.savefig('rewards/'+'epsd_'+str(e)+'_lr_'+str(lr)+'_epsln_'+str(ep)+'_gamma_'+str(gamma)+'.jpg')\n",
        "plt.close()"
      ],
      "execution_count": 22,
      "outputs": [
        {
          "output_type": "display_data",
          "data": {
            "image/png": "[encoded data removed]",
            "text/plain": [
              "<Figure size 432x288 with 1 Axes>"
            ]
          },
          "metadata": {
            "tags": []
          }
        }
      ]
    },
    {
      "cell_type": "markdown",
      "metadata": {
        "id": "FFRKa2s_d22I",
        "colab_type": "text"
      },
      "source": [
        "# ========================== model summary ==================== #\n"
      ]
    },
    {
      "cell_type": "code",
      "metadata": {
        "id": "FvElRnqJK6hd",
        "colab_type": "code",
        "colab": {}
      },
      "source": [
        "# !ls\n",
        "# from keras.models import load_model\n",
        "# model = load_model('trainNetworkInEPS999.h5')\n",
        "# model.summary()\n",
        "# from keras.utils import plot_model\n",
        "# plot_model(model, to_file='model.png')"
      ],
      "execution_count": 0,
      "outputs": []
    }
  ]
}